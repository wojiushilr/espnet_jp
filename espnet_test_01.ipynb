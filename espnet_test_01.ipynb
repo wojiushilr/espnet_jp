{
  "nbformat": 4,
  "nbformat_minor": 0,
  "metadata": {
    "colab": {
      "name": "espnet_test_01.ipynb",
      "provenance": []
    },
    "kernelspec": {
      "name": "python3",
      "display_name": "Python 3"
    },
    "language_info": {
      "name": "python"
    },
    "accelerator": "GPU"
  },
  "cells": [
    {
      "cell_type": "code",
      "metadata": {
        "colab": {
          "base_uri": "https://localhost:8080/",
          "height": 1000
        },
        "id": "thZAfrs0JZuF",
        "outputId": "9f059d61-34fc-4537-97b6-de7ffa1a6081"
      },
      "source": [
        "! pip install espnet_model_zoo"
      ],
      "execution_count": 1,
      "outputs": [
        {
          "output_type": "stream",
          "text": [
            "Collecting espnet_model_zoo\n",
            "  Downloading https://files.pythonhosted.org/packages/03/87/9c7d9981a98aa844363fa123c6f76e7d2cedd426f976865365b67e0be13b/espnet_model_zoo-0.0.0a29-py3-none-any.whl\n",
            "Requirement already satisfied: tqdm in /usr/local/lib/python3.7/dist-packages (from espnet_model_zoo) (4.41.1)\n",
            "Requirement already satisfied: pandas in /usr/local/lib/python3.7/dist-packages (from espnet_model_zoo) (1.1.5)\n",
            "Collecting espnet\n",
            "\u001b[?25l  Downloading https://files.pythonhosted.org/packages/2b/b8/1a903dd6a1b9285fb83f64417ad241ca8b900c78f5b8fbd343015f4b4250/espnet-0.9.9-py3-none-any.whl (760kB)\n",
            "\u001b[K     |████████████████████████████████| 768kB 39.4MB/s \n",
            "\u001b[?25hRequirement already satisfied: requests in /usr/local/lib/python3.7/dist-packages (from espnet_model_zoo) (2.23.0)\n",
            "Requirement already satisfied: numpy in /usr/local/lib/python3.7/dist-packages (from espnet_model_zoo) (1.19.5)\n",
            "Requirement already satisfied: pytz>=2017.2 in /usr/local/lib/python3.7/dist-packages (from pandas->espnet_model_zoo) (2018.9)\n",
            "Requirement already satisfied: python-dateutil>=2.7.3 in /usr/local/lib/python3.7/dist-packages (from pandas->espnet_model_zoo) (2.8.1)\n",
            "Collecting pyworld>=0.2.10\n",
            "\u001b[?25l  Downloading https://files.pythonhosted.org/packages/af/88/003eef396c966cf00088900167831946b80b8e7650843905cb9590c2d9ca/pyworld-0.2.12.tar.gz (222kB)\n",
            "\u001b[K     |████████████████████████████████| 225kB 46.4MB/s \n",
            "\u001b[?25hCollecting PyYAML>=5.1.2\n",
            "\u001b[?25l  Downloading https://files.pythonhosted.org/packages/7a/a5/393c087efdc78091afa2af9f1378762f9821c9c1d7a22c5753fb5ac5f97a/PyYAML-5.4.1-cp37-cp37m-manylinux1_x86_64.whl (636kB)\n",
            "\u001b[K     |████████████████████████████████| 645kB 39.1MB/s \n",
            "\u001b[?25hCollecting nara-wpe>=0.0.5\n",
            "  Downloading https://files.pythonhosted.org/packages/4b/d4/11dddfd5f41017df8eda83cbcafab14ba8bf32d23e7697bf9d2bd343d979/nara_wpe-0.0.7-py3-none-any.whl\n",
            "Collecting espnet-tts-frontend\n",
            "  Downloading https://files.pythonhosted.org/packages/e0/ab/c1e882c7dcc9241d9e422cb3b4f6554a93d5557d560e8ce918c183a80bd8/espnet_tts_frontend-0.0.3-py3-none-any.whl\n",
            "Requirement already satisfied: scipy>=1.4.1 in /usr/local/lib/python3.7/dist-packages (from espnet->espnet_model_zoo) (1.4.1)\n",
            "Collecting humanfriendly\n",
            "\u001b[?25l  Downloading https://files.pythonhosted.org/packages/93/66/363d01a81da2108a5cf446daf619779f06d49a0c4426dd02b40734f10e2f/humanfriendly-9.1-py2.py3-none-any.whl (86kB)\n",
            "\u001b[K     |████████████████████████████████| 92kB 13.8MB/s \n",
            "\u001b[?25hRequirement already satisfied: filelock in /usr/local/lib/python3.7/dist-packages (from espnet->espnet_model_zoo) (3.0.12)\n",
            "Collecting kaldiio>=2.17.0\n",
            "  Downloading https://files.pythonhosted.org/packages/5b/64/a615d1f8b31ee3b3eee9b1e3e17b9961757c0c1fb7df5b7dbd9baef004a9/kaldiio-2.17.2.tar.gz\n",
            "Collecting editdistance==0.5.2\n",
            "\u001b[?25l  Downloading https://files.pythonhosted.org/packages/e5/37/38c82a017b84729f272aef4384d55cf544d4701e43b0cb92a5274d375e21/editdistance-0.5.2-cp37-cp37m-manylinux1_x86_64.whl (174kB)\n",
            "\u001b[K     |████████████████████████████████| 184kB 47.1MB/s \n",
            "\u001b[?25hRequirement already satisfied: soundfile>=0.10.2 in /usr/local/lib/python3.7/dist-packages (from espnet->espnet_model_zoo) (0.10.3.post1)\n",
            "Requirement already satisfied: typeguard>=2.7.0 in /usr/local/lib/python3.7/dist-packages (from espnet->espnet_model_zoo) (2.7.1)\n",
            "Requirement already satisfied: librosa>=0.8.0 in /usr/local/lib/python3.7/dist-packages (from espnet->espnet_model_zoo) (0.8.0)\n",
            "Collecting pytorch-wpe\n",
            "  Downloading https://files.pythonhosted.org/packages/23/de/c47967a11bfe68cb28d2f19e55c7027993c3721eba79813db65d245e4ced/pytorch_wpe-0.0.1-py3-none-any.whl\n",
            "Requirement already satisfied: h5py>=2.10.0 in /usr/local/lib/python3.7/dist-packages (from espnet->espnet_model_zoo) (2.10.0)\n",
            "Collecting nltk>=3.4.5\n",
            "\u001b[?25l  Downloading https://files.pythonhosted.org/packages/5e/37/9532ddd4b1bbb619333d5708aaad9bf1742f051a664c3c6fa6632a105fd8/nltk-3.6.2-py3-none-any.whl (1.5MB)\n",
            "\u001b[K     |████████████████████████████████| 1.5MB 48.3MB/s \n",
            "\u001b[?25hRequirement already satisfied: tensorboard>=1.14 in /usr/local/lib/python3.7/dist-packages (from espnet->espnet_model_zoo) (2.4.1)\n",
            "Collecting tensorboardX>=1.8\n",
            "\u001b[?25l  Downloading https://files.pythonhosted.org/packages/07/84/46421bd3e0e89a92682b1a38b40efc22dafb6d8e3d947e4ceefd4a5fabc7/tensorboardX-2.2-py2.py3-none-any.whl (120kB)\n",
            "\u001b[K     |████████████████████████████████| 122kB 56.7MB/s \n",
            "\u001b[?25hCollecting configargparse>=1.2.1\n",
            "  Downloading https://files.pythonhosted.org/packages/e8/a2/b6947a20b67c64b080b999badd231ff4785d1c709a66cfaf8d5e70811a14/ConfigArgParse-1.4.1-py3-none-any.whl\n",
            "Requirement already satisfied: setuptools>=38.5.1 in /usr/local/lib/python3.7/dist-packages (from espnet->espnet_model_zoo) (56.1.0)\n",
            "Collecting torch-complex\n",
            "  Downloading https://files.pythonhosted.org/packages/81/eb/2af6146200534f83f5695fefe21a61234203fb2c6bbe9d8b7ca87636fbf1/torch_complex-0.2.1-py3-none-any.whl\n",
            "Collecting ctc-segmentation<1.6,>=1.4.0\n",
            "\u001b[?25l  Downloading https://files.pythonhosted.org/packages/dd/2c/d17bba2e7c75095a66ca50ef523c4a9cd6f2cc4feae393eb0edffc465b66/ctc_segmentation-1.5.2.tar.gz (60kB)\n",
            "\u001b[K     |████████████████████████████████| 61kB 9.3MB/s \n",
            "\u001b[?25hCollecting matplotlib==3.1.0\n",
            "\u001b[?25l  Downloading https://files.pythonhosted.org/packages/dc/cb/a34046e75c9a4ecaf426ae0d0eada97078c8ce4bbe3250940b1a312a1385/matplotlib-3.1.0-cp37-cp37m-manylinux1_x86_64.whl (13.1MB)\n",
            "\u001b[K     |████████████████████████████████| 13.1MB 208kB/s \n",
            "\u001b[?25hCollecting sentencepiece<0.1.90,>=0.1.82\n",
            "\u001b[?25l  Downloading https://files.pythonhosted.org/packages/92/9d/dcaaba6fcee6a5c3b36c465557720f088c29cdb5931bc8b4b2556394b3d0/sentencepiece-0.1.86-cp37-cp37m-manylinux1_x86_64.whl (1.0MB)\n",
            "\u001b[K     |████████████████████████████████| 1.0MB 49.8MB/s \n",
            "\u001b[?25hCollecting wandb\n",
            "\u001b[?25l  Downloading https://files.pythonhosted.org/packages/98/5f/45439b4767334b868e1c8c35b1b0ba3747d8c21be77b79f09eed7aa3c72b/wandb-0.10.30-py2.py3-none-any.whl (1.8MB)\n",
            "\u001b[K     |████████████████████████████████| 1.8MB 46.3MB/s \n",
            "\u001b[?25hRequirement already satisfied: pillow>=6.1.0 in /usr/local/lib/python3.7/dist-packages (from espnet->espnet_model_zoo) (7.1.2)\n",
            "Requirement already satisfied: chardet<4,>=3.0.2 in /usr/local/lib/python3.7/dist-packages (from requests->espnet_model_zoo) (3.0.4)\n",
            "Requirement already satisfied: idna<3,>=2.5 in /usr/local/lib/python3.7/dist-packages (from requests->espnet_model_zoo) (2.10)\n",
            "Requirement already satisfied: certifi>=2017.4.17 in /usr/local/lib/python3.7/dist-packages (from requests->espnet_model_zoo) (2020.12.5)\n",
            "Requirement already satisfied: urllib3!=1.25.0,!=1.25.1,<1.26,>=1.21.1 in /usr/local/lib/python3.7/dist-packages (from requests->espnet_model_zoo) (1.24.3)\n",
            "Requirement already satisfied: six>=1.5 in /usr/local/lib/python3.7/dist-packages (from python-dateutil>=2.7.3->pandas->espnet_model_zoo) (1.15.0)\n",
            "Requirement already satisfied: cython>=0.24.0 in /usr/local/lib/python3.7/dist-packages (from pyworld>=0.2.10->espnet->espnet_model_zoo) (0.29.23)\n",
            "Requirement already satisfied: click in /usr/local/lib/python3.7/dist-packages (from nara-wpe>=0.0.5->espnet->espnet_model_zoo) (8.0.0)\n",
            "Requirement already satisfied: bottleneck in /usr/local/lib/python3.7/dist-packages (from nara-wpe>=0.0.5->espnet->espnet_model_zoo) (1.3.2)\n",
            "Collecting g2p-en\n",
            "\u001b[?25l  Downloading https://files.pythonhosted.org/packages/d7/d9/b77dc634a7a0c0c97716ba97dd0a28cbfa6267c96f359c4f27ed71cbd284/g2p_en-2.1.0-py3-none-any.whl (3.1MB)\n",
            "\u001b[K     |████████████████████████████████| 3.1MB 47.0MB/s \n",
            "\u001b[?25hCollecting unidecode>=1.0.22\n",
            "\u001b[?25l  Downloading https://files.pythonhosted.org/packages/9e/25/723487ca2a52ebcee88a34d7d1f5a4b80b793f179ee0f62d5371938dfa01/Unidecode-1.2.0-py2.py3-none-any.whl (241kB)\n",
            "\u001b[K     |████████████████████████████████| 245kB 50.7MB/s \n",
            "\u001b[?25hCollecting jaconv\n",
            "  Downloading https://files.pythonhosted.org/packages/4f/c3/26e3c4121fce080594e4a714d8fac69c281e8159f65e4ad77188d9141e27/jaconv-0.3.tar.gz\n",
            "Requirement already satisfied: inflect>=1.0.0 in /usr/local/lib/python3.7/dist-packages (from espnet-tts-frontend->espnet->espnet_model_zoo) (2.1.0)\n",
            "Collecting pypinyin\n",
            "\u001b[?25l  Downloading https://files.pythonhosted.org/packages/fc/41/26c0efdabac41a519c78dafa0d0983bb26aafe19f26acdc9c5343c7f435f/pypinyin-0.41.0-py2.py3-none-any.whl (1.3MB)\n",
            "\u001b[K     |████████████████████████████████| 1.3MB 41.2MB/s \n",
            "\u001b[?25hRequirement already satisfied: cffi>=1.0 in /usr/local/lib/python3.7/dist-packages (from soundfile>=0.10.2->espnet->espnet_model_zoo) (1.14.5)\n",
            "Requirement already satisfied: numba>=0.43.0 in /usr/local/lib/python3.7/dist-packages (from librosa>=0.8.0->espnet->espnet_model_zoo) (0.51.2)\n",
            "Requirement already satisfied: resampy>=0.2.2 in /usr/local/lib/python3.7/dist-packages (from librosa>=0.8.0->espnet->espnet_model_zoo) (0.2.2)\n",
            "Requirement already satisfied: audioread>=2.0.0 in /usr/local/lib/python3.7/dist-packages (from librosa>=0.8.0->espnet->espnet_model_zoo) (2.1.9)\n",
            "Requirement already satisfied: scikit-learn!=0.19.0,>=0.14.0 in /usr/local/lib/python3.7/dist-packages (from librosa>=0.8.0->espnet->espnet_model_zoo) (0.22.2.post1)\n",
            "Requirement already satisfied: joblib>=0.14 in /usr/local/lib/python3.7/dist-packages (from librosa>=0.8.0->espnet->espnet_model_zoo) (1.0.1)\n",
            "Requirement already satisfied: pooch>=1.0 in /usr/local/lib/python3.7/dist-packages (from librosa>=0.8.0->espnet->espnet_model_zoo) (1.3.0)\n",
            "Requirement already satisfied: decorator>=3.0.0 in /usr/local/lib/python3.7/dist-packages (from librosa>=0.8.0->espnet->espnet_model_zoo) (4.4.2)\n",
            "Requirement already satisfied: regex in /usr/local/lib/python3.7/dist-packages (from nltk>=3.4.5->espnet->espnet_model_zoo) (2019.12.20)\n",
            "Requirement already satisfied: absl-py>=0.4 in /usr/local/lib/python3.7/dist-packages (from tensorboard>=1.14->espnet->espnet_model_zoo) (0.12.0)\n",
            "Requirement already satisfied: werkzeug>=0.11.15 in /usr/local/lib/python3.7/dist-packages (from tensorboard>=1.14->espnet->espnet_model_zoo) (2.0.0)\n",
            "Requirement already satisfied: wheel>=0.26; python_version >= \"3\" in /usr/local/lib/python3.7/dist-packages (from tensorboard>=1.14->espnet->espnet_model_zoo) (0.36.2)\n",
            "Requirement already satisfied: markdown>=2.6.8 in /usr/local/lib/python3.7/dist-packages (from tensorboard>=1.14->espnet->espnet_model_zoo) (3.3.4)\n",
            "Requirement already satisfied: grpcio>=1.24.3 in /usr/local/lib/python3.7/dist-packages (from tensorboard>=1.14->espnet->espnet_model_zoo) (1.32.0)\n",
            "Requirement already satisfied: google-auth<2,>=1.6.3 in /usr/local/lib/python3.7/dist-packages (from tensorboard>=1.14->espnet->espnet_model_zoo) (1.30.0)\n",
            "Requirement already satisfied: protobuf>=3.6.0 in /usr/local/lib/python3.7/dist-packages (from tensorboard>=1.14->espnet->espnet_model_zoo) (3.12.4)\n",
            "Requirement already satisfied: google-auth-oauthlib<0.5,>=0.4.1 in /usr/local/lib/python3.7/dist-packages (from tensorboard>=1.14->espnet->espnet_model_zoo) (0.4.4)\n",
            "Requirement already satisfied: tensorboard-plugin-wit>=1.6.0 in /usr/local/lib/python3.7/dist-packages (from tensorboard>=1.14->espnet->espnet_model_zoo) (1.8.0)\n",
            "Requirement already satisfied: pyparsing!=2.0.4,!=2.1.2,!=2.1.6,>=2.0.1 in /usr/local/lib/python3.7/dist-packages (from matplotlib==3.1.0->espnet->espnet_model_zoo) (2.4.7)\n",
            "Requirement already satisfied: kiwisolver>=1.0.1 in /usr/local/lib/python3.7/dist-packages (from matplotlib==3.1.0->espnet->espnet_model_zoo) (1.3.1)\n",
            "Requirement already satisfied: cycler>=0.10 in /usr/local/lib/python3.7/dist-packages (from matplotlib==3.1.0->espnet->espnet_model_zoo) (0.10.0)\n",
            "Collecting GitPython>=1.0.0\n",
            "\u001b[?25l  Downloading https://files.pythonhosted.org/packages/27/da/6f6224fdfc47dab57881fe20c0d1bc3122be290198ba0bf26a953a045d92/GitPython-3.1.17-py3-none-any.whl (166kB)\n",
            "\u001b[K     |████████████████████████████████| 174kB 57.8MB/s \n",
            "\u001b[?25hCollecting subprocess32>=3.5.3\n",
            "\u001b[?25l  Downloading https://files.pythonhosted.org/packages/32/c8/564be4d12629b912ea431f1a50eb8b3b9d00f1a0b1ceff17f266be190007/subprocess32-3.5.4.tar.gz (97kB)\n",
            "\u001b[K     |████████████████████████████████| 102kB 13.6MB/s \n",
            "\u001b[?25hCollecting configparser>=3.8.1\n",
            "  Downloading https://files.pythonhosted.org/packages/fd/01/ff260a18caaf4457eb028c96eeb405c4a230ca06c8ec9c1379f813caa52e/configparser-5.0.2-py3-none-any.whl\n",
            "Collecting shortuuid>=0.5.0\n",
            "  Downloading https://files.pythonhosted.org/packages/25/a6/2ecc1daa6a304e7f1b216f0896b26156b78e7c38e1211e9b798b4716c53d/shortuuid-1.0.1-py3-none-any.whl\n",
            "Collecting sentry-sdk>=0.4.0\n",
            "\u001b[?25l  Downloading https://files.pythonhosted.org/packages/1c/4a/a54b254f67d8f4052338d54ebe90126f200693440a93ef76d254d581e3ec/sentry_sdk-1.1.0-py2.py3-none-any.whl (131kB)\n",
            "\u001b[K     |████████████████████████████████| 133kB 53.9MB/s \n",
            "\u001b[?25hCollecting pathtools\n",
            "  Downloading https://files.pythonhosted.org/packages/e7/7f/470d6fcdf23f9f3518f6b0b76be9df16dcc8630ad409947f8be2eb0ed13a/pathtools-0.1.2.tar.gz\n",
            "Requirement already satisfied: promise<3,>=2.0 in /usr/local/lib/python3.7/dist-packages (from wandb->espnet->espnet_model_zoo) (2.3)\n",
            "Requirement already satisfied: psutil>=5.0.0 in /usr/local/lib/python3.7/dist-packages (from wandb->espnet->espnet_model_zoo) (5.4.8)\n",
            "Collecting docker-pycreds>=0.4.0\n",
            "  Downloading https://files.pythonhosted.org/packages/f5/e8/f6bd1eee09314e7e6dee49cbe2c5e22314ccdb38db16c9fc72d2fa80d054/docker_pycreds-0.4.0-py2.py3-none-any.whl\n",
            "Collecting distance>=0.1.3\n",
            "\u001b[?25l  Downloading https://files.pythonhosted.org/packages/5c/1a/883e47df323437aefa0d0a92ccfb38895d9416bd0b56262c2e46a47767b8/Distance-0.1.3.tar.gz (180kB)\n",
            "\u001b[K     |████████████████████████████████| 184kB 41.1MB/s \n",
            "\u001b[?25hRequirement already satisfied: pycparser in /usr/local/lib/python3.7/dist-packages (from cffi>=1.0->soundfile>=0.10.2->espnet->espnet_model_zoo) (2.20)\n",
            "Requirement already satisfied: llvmlite<0.35,>=0.34.0.dev0 in /usr/local/lib/python3.7/dist-packages (from numba>=0.43.0->librosa>=0.8.0->espnet->espnet_model_zoo) (0.34.0)\n",
            "Requirement already satisfied: appdirs in /usr/local/lib/python3.7/dist-packages (from pooch>=1.0->librosa>=0.8.0->espnet->espnet_model_zoo) (1.4.4)\n",
            "Requirement already satisfied: packaging in /usr/local/lib/python3.7/dist-packages (from pooch>=1.0->librosa>=0.8.0->espnet->espnet_model_zoo) (20.9)\n",
            "Requirement already satisfied: importlib-metadata; python_version < \"3.8\" in /usr/local/lib/python3.7/dist-packages (from markdown>=2.6.8->tensorboard>=1.14->espnet->espnet_model_zoo) (4.0.1)\n",
            "Requirement already satisfied: rsa<5,>=3.1.4; python_version >= \"3.6\" in /usr/local/lib/python3.7/dist-packages (from google-auth<2,>=1.6.3->tensorboard>=1.14->espnet->espnet_model_zoo) (4.7.2)\n",
            "Requirement already satisfied: cachetools<5.0,>=2.0.0 in /usr/local/lib/python3.7/dist-packages (from google-auth<2,>=1.6.3->tensorboard>=1.14->espnet->espnet_model_zoo) (4.2.2)\n",
            "Requirement already satisfied: pyasn1-modules>=0.2.1 in /usr/local/lib/python3.7/dist-packages (from google-auth<2,>=1.6.3->tensorboard>=1.14->espnet->espnet_model_zoo) (0.2.8)\n",
            "Requirement already satisfied: requests-oauthlib>=0.7.0 in /usr/local/lib/python3.7/dist-packages (from google-auth-oauthlib<0.5,>=0.4.1->tensorboard>=1.14->espnet->espnet_model_zoo) (1.3.0)\n",
            "Collecting gitdb<5,>=4.0.1\n",
            "\u001b[?25l  Downloading https://files.pythonhosted.org/packages/ea/e8/f414d1a4f0bbc668ed441f74f44c116d9816833a48bf81d22b697090dba8/gitdb-4.0.7-py3-none-any.whl (63kB)\n",
            "\u001b[K     |████████████████████████████████| 71kB 11.7MB/s \n",
            "\u001b[?25hRequirement already satisfied: typing-extensions>=3.7.4.0; python_version < \"3.8\" in /usr/local/lib/python3.7/dist-packages (from GitPython>=1.0.0->wandb->espnet->espnet_model_zoo) (3.7.4.3)\n",
            "Requirement already satisfied: zipp>=0.5 in /usr/local/lib/python3.7/dist-packages (from importlib-metadata; python_version < \"3.8\"->markdown>=2.6.8->tensorboard>=1.14->espnet->espnet_model_zoo) (3.4.1)\n",
            "Requirement already satisfied: pyasn1>=0.1.3 in /usr/local/lib/python3.7/dist-packages (from rsa<5,>=3.1.4; python_version >= \"3.6\"->google-auth<2,>=1.6.3->tensorboard>=1.14->espnet->espnet_model_zoo) (0.4.8)\n",
            "Requirement already satisfied: oauthlib>=3.0.0 in /usr/local/lib/python3.7/dist-packages (from requests-oauthlib>=0.7.0->google-auth-oauthlib<0.5,>=0.4.1->tensorboard>=1.14->espnet->espnet_model_zoo) (3.1.0)\n",
            "Collecting smmap<5,>=3.0.1\n",
            "  Downloading https://files.pythonhosted.org/packages/68/ee/d540eb5e5996eb81c26ceffac6ee49041d473bc5125f2aa995cf51ec1cf1/smmap-4.0.0-py2.py3-none-any.whl\n",
            "Building wheels for collected packages: pyworld, kaldiio, ctc-segmentation, jaconv, subprocess32, pathtools, distance\n",
            "  Building wheel for pyworld (setup.py) ... \u001b[?25l\u001b[?25hdone\n",
            "  Created wheel for pyworld: filename=pyworld-0.2.12-cp37-cp37m-linux_x86_64.whl size=611159 sha256=faaa2da6f5c2673dd63e2ce522a968199f6c92b9f194f274db9bd0217ba7f2e5\n",
            "  Stored in directory: /root/.cache/pip/wheels/d0/e4/1c/a508000462b83164d5eba9a4b46f39b4b1645ac952bbe71551\n",
            "  Building wheel for kaldiio (setup.py) ... \u001b[?25l\u001b[?25hdone\n",
            "  Created wheel for kaldiio: filename=kaldiio-2.17.2-cp37-none-any.whl size=24470 sha256=97c07cdcb213550b838578d0e2893541438a6e6a04029defd3042a24c96634ca\n",
            "  Stored in directory: /root/.cache/pip/wheels/66/9c/1c/6c9ebc779b47f576ffdfdb2bbf8958a67a14ffa41dbef808ca\n",
            "  Building wheel for ctc-segmentation (setup.py) ... \u001b[?25l\u001b[?25hdone\n",
            "  Created wheel for ctc-segmentation: filename=ctc_segmentation-1.5.2-cp37-cp37m-linux_x86_64.whl size=105224 sha256=767b5316fe809e6bb04f94b975b4fcf5fae0bc33653ab73f904e21bfaaed5809\n",
            "  Stored in directory: /root/.cache/pip/wheels/c0/0e/5d/7a56326693ff948189d824b73e9431adbde845c500cb3d2116\n",
            "  Building wheel for jaconv (setup.py) ... \u001b[?25l\u001b[?25hdone\n",
            "  Created wheel for jaconv: filename=jaconv-0.3-cp37-none-any.whl size=15551 sha256=4515ed00e1244e84243eb5858885348eb45f431223235794d3fdcd00fb2d2360\n",
            "  Stored in directory: /root/.cache/pip/wheels/95/c8/4d/c29135241814c9221027da775d00bcfead63bc924f8ccdaf41\n",
            "  Building wheel for subprocess32 (setup.py) ... \u001b[?25l\u001b[?25hdone\n",
            "  Created wheel for subprocess32: filename=subprocess32-3.5.4-cp37-none-any.whl size=6489 sha256=4a9d72c2a9f933732618570e6730c11e26859f38629e11c1ff2f10cc78683020\n",
            "  Stored in directory: /root/.cache/pip/wheels/68/39/1a/5e402bdfdf004af1786c8b853fd92f8c4a04f22aad179654d1\n",
            "  Building wheel for pathtools (setup.py) ... \u001b[?25l\u001b[?25hdone\n",
            "  Created wheel for pathtools: filename=pathtools-0.1.2-cp37-none-any.whl size=8786 sha256=69f4af2000517720fc29b7f6cc166de975b7ceb31883f22b4db6925fb73c3d4f\n",
            "  Stored in directory: /root/.cache/pip/wheels/0b/04/79/c3b0c3a0266a3cb4376da31e5bfe8bba0c489246968a68e843\n",
            "  Building wheel for distance (setup.py) ... \u001b[?25l\u001b[?25hdone\n",
            "  Created wheel for distance: filename=Distance-0.1.3-cp37-none-any.whl size=16261 sha256=763680cbe88d5ac31a8ab9a64c56e8d006170529da553744bc3fdfb444b42f78\n",
            "  Stored in directory: /root/.cache/pip/wheels/d5/aa/e1/dbba9e7b6d397d645d0f12db1c66dbae9c5442b39b001db18e\n",
            "Successfully built pyworld kaldiio ctc-segmentation jaconv subprocess32 pathtools distance\n",
            "\u001b[31mERROR: plotnine 0.6.0 has requirement matplotlib>=3.1.1, but you'll have matplotlib 3.1.0 which is incompatible.\u001b[0m\n",
            "\u001b[31mERROR: mizani 0.6.0 has requirement matplotlib>=3.1.1, but you'll have matplotlib 3.1.0 which is incompatible.\u001b[0m\n",
            "\u001b[31mERROR: albumentations 0.1.12 has requirement imgaug<0.2.7,>=0.2.5, but you'll have imgaug 0.2.9 which is incompatible.\u001b[0m\n",
            "Installing collected packages: pyworld, PyYAML, nara-wpe, nltk, distance, g2p-en, unidecode, jaconv, pypinyin, espnet-tts-frontend, humanfriendly, kaldiio, editdistance, pytorch-wpe, tensorboardX, configargparse, torch-complex, ctc-segmentation, matplotlib, sentencepiece, smmap, gitdb, GitPython, subprocess32, configparser, shortuuid, sentry-sdk, pathtools, docker-pycreds, wandb, espnet, espnet-model-zoo\n",
            "  Found existing installation: PyYAML 3.13\n",
            "    Uninstalling PyYAML-3.13:\n",
            "      Successfully uninstalled PyYAML-3.13\n",
            "  Found existing installation: nltk 3.2.5\n",
            "    Uninstalling nltk-3.2.5:\n",
            "      Successfully uninstalled nltk-3.2.5\n",
            "  Found existing installation: editdistance 0.5.3\n",
            "    Uninstalling editdistance-0.5.3:\n",
            "      Successfully uninstalled editdistance-0.5.3\n",
            "  Found existing installation: matplotlib 3.2.2\n",
            "    Uninstalling matplotlib-3.2.2:\n",
            "      Successfully uninstalled matplotlib-3.2.2\n",
            "Successfully installed GitPython-3.1.17 PyYAML-5.4.1 configargparse-1.4.1 configparser-5.0.2 ctc-segmentation-1.5.2 distance-0.1.3 docker-pycreds-0.4.0 editdistance-0.5.2 espnet-0.9.9 espnet-model-zoo-0.0.0a29 espnet-tts-frontend-0.0.3 g2p-en-2.1.0 gitdb-4.0.7 humanfriendly-9.1 jaconv-0.3 kaldiio-2.17.2 matplotlib-3.1.0 nara-wpe-0.0.7 nltk-3.6.2 pathtools-0.1.2 pypinyin-0.41.0 pytorch-wpe-0.0.1 pyworld-0.2.12 sentencepiece-0.1.86 sentry-sdk-1.1.0 shortuuid-1.0.1 smmap-4.0.0 subprocess32-3.5.4 tensorboardX-2.2 torch-complex-0.2.1 unidecode-1.2.0 wandb-0.10.30\n"
          ],
          "name": "stdout"
        },
        {
          "output_type": "display_data",
          "data": {
            "application/vnd.colab-display-data+json": {
              "pip_warning": {
                "packages": [
                  "matplotlib",
                  "mpl_toolkits"
                ]
              }
            }
          },
          "metadata": {
            "tags": []
          }
        }
      ]
    },
    {
      "cell_type": "code",
      "metadata": {
        "colab": {
          "base_uri": "https://localhost:8080/"
        },
        "id": "Gwec-hEBHTCZ",
        "outputId": "39a2847e-665d-43bf-e271-945bd8cc083e"
      },
      "source": [
        "import soundfile\n",
        "from espnet_model_zoo.downloader import ModelDownloader\n",
        "from espnet2.bin.asr_inference import Speech2Text"
      ],
      "execution_count": 2,
      "outputs": [
        {
          "output_type": "stream",
          "text": [
            "[nltk_data] Downloading package averaged_perceptron_tagger to\n",
            "[nltk_data]     /root/nltk_data...\n",
            "[nltk_data]   Unzipping taggers/averaged_perceptron_tagger.zip.\n",
            "[nltk_data] Downloading package cmudict to /root/nltk_data...\n",
            "[nltk_data]   Unzipping corpora/cmudict.zip.\n"
          ],
          "name": "stderr"
        }
      ]
    },
    {
      "cell_type": "code",
      "metadata": {
        "colab": {
          "base_uri": "https://localhost:8080/"
        },
        "id": "kPMWj4gbJQQa",
        "outputId": "58ab2b12-69b8-4a94-bb76-fdb85fcd27d4"
      },
      "source": [
        "# 学習済みをダウンロードし、音声認識モデルを作成\n",
        "d = ModelDownloader()\n",
        "speech2text = Speech2Text(\n",
        "        **d.download_and_unpack(\"kan-bayashi/csj_asr_train_asr_transformer_raw_char_sp_valid.acc.ave\"),\n",
        "        device=\"cuda\"  # CPU で認識を行う場合は省略\n",
        "    )\n",
        "\n",
        "# 音声ファイル読み込み\n",
        "speech, _ = soundfile.read(\"/content/BASIC5000_0001.wav\")  # 認識させたい音声ファイルを指定\n",
        "\n",
        "# 認識結果の取得と表示\n",
        "nbests = speech2text(speech)\n",
        "text, *_ = nbests[0]\n",
        "print(text)"
      ],
      "execution_count": 5,
      "outputs": [
        {
          "output_type": "stream",
          "text": [
            "水をマレーシアから買わなくてはならないのです\n"
          ],
          "name": "stdout"
        }
      ]
    }
  ]
}